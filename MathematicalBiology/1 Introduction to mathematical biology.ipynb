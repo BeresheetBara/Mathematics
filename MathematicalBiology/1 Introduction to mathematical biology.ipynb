## 1 Introduction to mathematical biology
### Dynamic System
model concentrations, populations, locations, etc., over time, using ordinary differential equations, or ODE.
$N(t)$&emsp;:population of bacteria over time
Assume $N(t)$, $t$ are real numbers<br>
$ \frac{dN(t)}{dt}={K}\cdot{N} $ &emsp; ${N'}\sim{N}$<br>
Differential eq: unknown is a function $N(t)$ satisfying ${N'}=K∙N$
