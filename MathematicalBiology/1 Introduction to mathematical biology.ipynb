$N(t)$: population of bacteria over time<br>
$\quad$ Assume $N(t)$, $t$ are real numbers<br>
$\quad\frac{dN(t)}{dt}={K}\cdot{N}$&emsp;$ {N'}\sim{N}$<br>

Differential eq: unknown is a function $N(t)$ satisfying<br> 
$\quad {N'}=K∙N$<br>
$\quad N(t)=e^{Kt}$<br>
$\quad N'(t)=e^{Kt}\cdot{K}={K}\cdot{N}$<br>
$\quad N(t)={A}e^{Kt}$&emsp;&emsp;&emsp;$\checkmark$<br>
$\quad N'(t)={KA}e^{Kt}={K}{N(t)}$<br>

Solution of $N'=KN$<br>
$\quad N(t)=Ae^{Kt}$ for $A$ is a constant<br>
$\quad N(0)=100\leftarrow$initial condition<br>
$\quad N(0)=Ae^{K0}={A}\cdot{1}$<br>
$\rightarrow {A}=100$<br>
$\quad N(t)=100e^{Kt}$<br>

Doubling Time: to such that<br>
$\quad N(t_0)=2N(0)$<br>
$\quad Ae^{Kt_0}=2Ae^{K0}$<br>
$\quad e^{Kt_0}=2$<br>
$\quad Kt_0=\ln2$<br>
$\quad t_0=\frac{\ln2}{K}$<br>
$\rightarrow $Unit for ${K}$ : $\frac{1}{time}$<br>
$\quad $Unit for ${N}: \#$<br>
$\quad \qquad \qquad \frac{\#}{cm^3}$<br>
$\quad \qquad \quad \overset{\uparrow}{Volume}$<br>

Food restriction<br>
$\quad N'= {K(c)}\cdot{N}$<br>
where $\quad {K}$ is food availability<br>
$\quad \qquad {c(t)}$: food concentration<br>
$\quad {c'} = \alpha {N'}$<br>
$\quad \alpha $: constant describing consumption of food by each new bacteria<br>
$\quad {c'} = -\alpha \cdot \kappa(c) \cdot {N}$<br>
Now assume for for<br>
$\quad \kappa(c)$<br>
$\quad \kappa(c) = \kappa \cdot {c}$<br>
$\qquad $&emsp;$ \overset{\uparrow}{Greek}$<br>
ODE: ${N'c(t)} = \kappa(c){N} = \kappa \cdot {c} \cdot {N}$<br>
$\quad {c'(t) = -\alpha \kappa(c){N}}$<br>
$\qquad\quad = -\alpha\kappa{c}{N}$<br>
Left hand side:$\qquad$rates of change of ${c}$ and ${N}$<br>
Right hand side: $\quad$ function of ${c}$ and ${N}$<br>
